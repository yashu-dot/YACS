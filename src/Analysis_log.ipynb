{
  "nbformat": 4,
  "nbformat_minor": 0,
  "metadata": {
    "colab": {
      "name": "Analysis_log.ipynb",
      "provenance": [],
      "collapsed_sections": []
    },
    "kernelspec": {
      "name": "python3",
      "display_name": "Python 3"
    }
  },
  "cells": [
    {
      "cell_type": "code",
      "metadata": {
        "id": "gpomJmltLXzP"
      },
      "source": [
        "import pandas as pd\n",
        "import numpy as np\n",
        "import seaborn as sns\n",
        "%matplotlib inline\n",
        "import ast\n",
        "from datetime import datetime\n",
        "import matplotlib.pyplot as plt"
      ],
      "execution_count": 1,
      "outputs": []
    },
    {
      "cell_type": "code",
      "metadata": {
        "id": "dk3jDMkXWSMc"
      },
      "source": [
        "df_RR = pd.DataFrame()\n",
        "df_RA = pd.DataFrame()\n",
        "df_LL = pd.DataFrame()"
      ],
      "execution_count": 2,
      "outputs": []
    },
    {
      "cell_type": "code",
      "metadata": {
        "id": "TjU4GmyrT0tP"
      },
      "source": [
        "with open('log_LL.txt','r') as log:\n",
        "  for line in log:\n",
        "    if ('Algo' in str(line) or 'Format' in str(line)):\n",
        "      pass\n",
        "    else:\n",
        "      line = ast.literal_eval(line)\n",
        "      a = pd.Series(line)\n",
        "      df_LL =df_LL.append(a,ignore_index=True)\n",
        "\n",
        "with open('log_RR.txt','r') as log:\n",
        "  for line in log:\n",
        "    if ('Algo' in str(line) or 'Format' in str(line)):\n",
        "      pass\n",
        "    else:\n",
        "      line = ast.literal_eval(line)\n",
        "      b = pd.Series(line)\n",
        "      df_RR =df_RR.append(b,ignore_index=True)\n",
        "\n",
        "with open('log_RA.txt','r') as log:\n",
        "  for line in log:\n",
        "    if ('Algo' in str(line) or 'Format' in str(line)):\n",
        "      pass\n",
        "    else:\n",
        "      line = ast.literal_eval(line)\n",
        "      c = pd.Series(line)\n",
        "      df_RA =df_RA.append(c,ignore_index=True)\n",
        "\n",
        "df_LL.columns = ['code','time','jobid','mapreduce','worker']\n",
        "df_RA.columns = ['code','time','jobid','mapreduce','worker']\n",
        "df_RR.columns = ['code','time','jobid','mapreduce','worker']"
      ],
      "execution_count": 3,
      "outputs": []
    },
    {
      "cell_type": "code",
      "metadata": {
        "id": "_pEe5ZFPlDwh"
      },
      "source": [
        "def secs_between(d1, d2):\n",
        "    d1 = datetime.strptime(d1, \"%H:%M:%S\")\n",
        "    d2 = datetime.strptime(d2, \"%H:%M:%S\")\n",
        "    return abs((d2 - d1).seconds)\n",
        "\n",
        "def task_comp(df):\n",
        "  taskComp = []\n",
        "  df1 = pd.DataFrame(df.groupby(['jobid']).apply(lambda x: x.sort_values(by=['jobid'])))\n",
        "  j = list(df1['jobid'].unique())\n",
        "  for job in j:\n",
        "    df2 = pd.DataFrame(df1[df1['jobid'] == str(job)])\n",
        "    l_mr = list(df2['mapreduce'].unique())\n",
        "    for mr in l_mr:\n",
        "      if mr!= None:\n",
        "        df3 = pd.DataFrame(df2[df2['mapreduce'] == str(mr)])\n",
        "        sub = secs_between(df3['time'][0],df3['time'][1])\n",
        "        taskComp.append(sub)\n",
        "  return taskComp\n",
        "      \n"
      ],
      "execution_count": 4,
      "outputs": []
    },
    {
      "cell_type": "code",
      "metadata": {
        "id": "HeCvUqG9-O3s"
      },
      "source": [
        "def job_completion(df):\n",
        "  jobComp = []\n",
        "  df1 = pd.DataFrame(df.groupby(['jobid']).apply(lambda x: x.sort_values(by=['jobid'])))\n",
        "  j = list(df1['jobid'].unique())\n",
        "  for job in j:\n",
        "    df2 = pd.DataFrame(df1[df1['jobid'] == str(job)])\n",
        "    sub = secs_between(df2[df2.code == '10']['time'][0],df2[df2.code == '21']['time'][0])\n",
        "    jobComp.append(sub)\n",
        "  return jobComp\n"
      ],
      "execution_count": 5,
      "outputs": []
    },
    {
      "cell_type": "code",
      "metadata": {
        "id": "md-Svy95uUVh"
      },
      "source": [
        "taskRR = task_comp(df_RR)\n",
        "taskLL = task_comp(df_LL)\n",
        "taskRA = task_comp(df_RA)\n",
        "jobRR = job_completion(df_RR)\n",
        "jobLL = job_completion(df_LL)\n",
        "jobRA = job_completion(df_RA)"
      ],
      "execution_count": 6,
      "outputs": []
    },
    {
      "cell_type": "code",
      "metadata": {
        "id": "15T2FtxwAEKU"
      },
      "source": [
        "def find_stats(x,y):\n",
        "  return (np.mean(x),np.median(x),np.mean(y),np.median(y))\n",
        "TaskMeanRR,TaskMedianRR,JobMeanRR,JobMedianRR = find_stats(taskRR,jobRR)\n",
        "TaskMeanLL,TaskMedianLL,JobMeanLL,JobMedianLL = find_stats(taskLL,jobLL)\n",
        "TaskMeanRA,TaskMedianRA,JobMeanRA,JobMedianRA = find_stats(taskRA,jobRA)"
      ],
      "execution_count": 7,
      "outputs": []
    },
    {
      "cell_type": "code",
      "metadata": {
        "colab": {
          "base_uri": "https://localhost:8080/"
        },
        "id": "XaGLsOjmCjD2",
        "outputId": "a8bc6be7-1e69-4bd7-e4ea-d7d2de03b294"
      },
      "source": [
        "print(\"\\t\\t\\t\",\"---\"*12,\"TaskCompletion Stats\",\"---\"*12)\n",
        "print(\"\\n\\t\\t-----------------------------Mean and Median for RoundRobin Algorithm are -> %.2f,%.2f-----------------------------\" %(round(TaskMeanRR,2),round(TaskMedianRR,2)))\n",
        "print(\"\\n\\t\\t-----------------------------Mean and Median for LeastLoaded Algorithm are -> %.2f,%.2f-----------------------------\" %(round(TaskMeanLL,2),round(TaskMedianLL,2)))\n",
        "print(\"\\n\\t\\t-----------------------------Mean and Median for RandomSelection Algorithm are -> %.2f,%.2f-----------------------------\" %(round(TaskMeanRA,2),round(TaskMedianRA,2)))"
      ],
      "execution_count": 8,
      "outputs": [
        {
          "output_type": "stream",
          "text": [
            "\t\t\t ------------------------------------ TaskCompletion Stats ------------------------------------\n",
            "\n",
            "\t\t-----------------------------Mean and Median for RoundRobin Algorithm are -> 2.60,3.00-----------------------------\n",
            "\n",
            "\t\t-----------------------------Mean and Median for LeastLoaded Algorithm are -> 2.70,3.00-----------------------------\n",
            "\n",
            "\t\t-----------------------------Mean and Median for RandomSelection Algorithm are -> 2.38,2.00-----------------------------\n"
          ],
          "name": "stdout"
        }
      ]
    },
    {
      "cell_type": "code",
      "metadata": {
        "colab": {
          "base_uri": "https://localhost:8080/"
        },
        "id": "aE8s9d1_DH4H",
        "outputId": "cbb3593c-bf0c-418d-f8d1-60aed87e2465"
      },
      "source": [
        "print(\"\\t\\t\\t\",\"---\"*12,\"JobCompletion Stats\",\"---\"*12)\n",
        "print(\"\\n\\t\\t-----------------------------Mean and Median for RoundRobin Algorithm are -> %.2f,%.2f-----------------------------\" %(round(JobMeanRR,2),round(JobMedianRR,2)))\n",
        "print(\"\\n\\t\\t-----------------------------Mean and Median for LeastLoaded Algorithm are -> %.2f,%.2f-----------------------------\" %(round(JobMeanLL,2),round(JobMedianLL,2)))\n",
        "print(\"\\n\\t\\t-----------------------------Mean and Median for RandomSelection Algorithm are -> %.2f,%.2f-----------------------------\" %(round(JobMeanRA,2),round(JobMedianRA,2)))"
      ],
      "execution_count": 9,
      "outputs": [
        {
          "output_type": "stream",
          "text": [
            "\t\t\t ------------------------------------ JobCompletion Stats ------------------------------------\n",
            "\n",
            "\t\t-----------------------------Mean and Median for RoundRobin Algorithm are -> 7.46,7.00-----------------------------\n",
            "\n",
            "\t\t-----------------------------Mean and Median for LeastLoaded Algorithm are -> 7.56,7.00-----------------------------\n",
            "\n",
            "\t\t-----------------------------Mean and Median for RandomSelection Algorithm are -> 5.82,6.00-----------------------------\n"
          ],
          "name": "stdout"
        }
      ]
    },
    {
      "cell_type": "code",
      "metadata": {
        "id": "CT2blDumLwHL"
      },
      "source": [
        "def plot(x):\n",
        "  w = list(x.worker.unique())\n",
        "  tt = {}\n",
        "\n",
        "  time = []\n",
        "  for i in w:\n",
        "    if i!=None:\n",
        "      tt[i] = len(x[x.worker==str(i)].index)\n",
        "    # mins = min(x[x.worker==str(i)]['time'])\n",
        "      time.append(secs_between(min(x[x.worker==str(i)]['time']),max(x[x.worker==str(i)]['time'])))    \n",
        "  return (tt,time)\n",
        "  "
      ],
      "execution_count": 10,
      "outputs": []
    },
    {
      "cell_type": "code",
      "metadata": {
        "id": "nKOgJtXHOmMl"
      },
      "source": [
        "plotRR_total,plotRR_time = plot(df_RR)\n",
        "plotLL_total,plotLL_time = plot(df_LL)\n",
        "plotRA_total,plotRA_time = plot(df_RA)"
      ],
      "execution_count": 11,
      "outputs": []
    },
    {
      "cell_type": "code",
      "metadata": {
        "colab": {
          "base_uri": "https://localhost:8080/",
          "height": 527
        },
        "id": "9hDpsSAAUkic",
        "outputId": "e44f53b2-cfe4-4245-9091-47b5be17494a"
      },
      "source": [
        "f,ax = plt.subplots(1,3)\n",
        "f.set_size_inches(24,8)\n",
        "ax[0].bar(plotRR_total.keys(),plotRR_total.values(),color='cyan');\n",
        "ax[1].bar(plotLL_total.keys(),plotLL_total.values(),color='orange');\n",
        "ax[2].bar(plotRA_total.keys(),plotRA_total.values(),color='teal');\n",
        "f.suptitle(\"Worker Vs No of Jobs\",size=19);\n",
        "ax[0].set_xlabel(\"Workers for Round Robin\",size=14);\n",
        "ax[0].set_ylabel(\"No Of Jobs\",size=14);\n",
        "ax[1].set_xlabel(\"Workers for Least Loaded\",size=14);\n",
        "ax[1].set_ylabel(\"No Of Jobs\",size=14);\n",
        "ax[2].set_xlabel(\"Workers for Random Selection\",size=14);\n",
        "ax[2].set_ylabel(\"No Of Jobs\",size=14);"
      ],
      "execution_count": 12,
      "outputs": [
        {
          "output_type": "display_data",
          "data": {
            "image/png": "[encoded data removed]",
            "text/plain": [
              "<Figure size 1728x576 with 3 Axes>"
            ]
          },
          "metadata": {
            "tags": [],
            "needs_background": "light"
          }
        }
      ]
    },
    {
      "cell_type": "code",
      "metadata": {
        "colab": {
          "base_uri": "https://localhost:8080/",
          "height": 527
        },
        "id": "qpCXnHDFUkXb",
        "outputId": "921215c5-80dd-465c-9d12-1e55e3d74e3e"
      },
      "source": [
        "f,ax = plt.subplots(1,3)\n",
        "f.set_size_inches(24,8)\n",
        "ax[0].bar(plotRR_total.keys(),plotRR_time,color='red');\n",
        "ax[1].bar(plotLL_total.keys(),plotLL_time,color='green');\n",
        "ax[2].bar(plotRA_total.keys(),plotRA_time,color='pink');\n",
        "f.suptitle(\"Worker Vs Time in Secs\",size=19);\n",
        "ax[0].set_xlabel(\"Workers for Round Robin\",size=14);\n",
        "ax[0].set_ylabel(\"Time in secs\",size=14);\n",
        "ax[1].set_xlabel(\"Workers for Least Loaded\",size=14);\n",
        "ax[1].set_ylabel(\"Time in secs\",size=14);\n",
        "ax[2].set_xlabel(\"Workers for Random Selection\",size=14);\n",
        "ax[2].set_ylabel(\"Time in secs\",size=14);"
      ],
      "execution_count": 13,
      "outputs": [
        {
          "output_type": "display_data",
          "data": {
            "image/png": "[encoded data removed]",
            "text/plain": [
              "<Figure size 1728x576 with 3 Axes>"
            ]
          },
          "metadata": {
            "tags": [],
            "needs_background": "light"
          }
        }
      ]
    },
    {
      "cell_type": "code",
      "metadata": {
        "id": "KVEb1EMdUkIW"
      },
      "source": [
        ""
      ],
      "execution_count": null,
      "outputs": []
    },
    {
      "cell_type": "code",
      "metadata": {
        "id": "cQ4CbKlaHiq8"
      },
      "source": [
        ""
      ],
      "execution_count": null,
      "outputs": []
    }
  ]
}